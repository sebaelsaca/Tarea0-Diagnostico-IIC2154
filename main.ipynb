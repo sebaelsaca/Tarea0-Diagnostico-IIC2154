{
 "cells": [
  {
   "cell_type": "code",
   "execution_count": 1,
   "metadata": {},
   "outputs": [],
   "source": [
    "import json\n",
    "import pandas as pd\n",
    "from functions import top10tweets, top10usertweets, top10daytweets, top10hashtags \n",
    "lista = list()\n",
    "with open('info.json') as json_file:\n",
    "    for linea in json_file:\n",
    "        linea = json.loads(linea)\n",
    "        if 'user' not in linea.keys():\n",
    "            for val in linea.values():\n",
    "                if type(val) is dict and 'username' in val.keys():\n",
    "                    linea['user'] = val\n",
    "                    break\n",
    "        \n",
    "        lista.append(linea)"
   ]
  },
  {
   "cell_type": "code",
   "execution_count": 2,
   "metadata": {},
   "outputs": [
    {
     "name": "stdout",
     "output_type": "stream",
     "text": [
      "[1] rihanna                      2021-02-02T15:29:51+00:00\n",
      "Rihanna\n",
      "why aren’t we talking about this?! #FarmersProtest https://t.co/obmIlXhK9S\n",
      "\n",
      "[2] GretaThunberg                      2021-02-02T20:04:01+00:00\n",
      "Greta Thunberg\n",
      "We stand in solidarity with the #FarmersProtest in India.\n",
      " https://t.co/tqvR0oHgo0\n",
      "\n",
      "[3] GretaThunberg                      2021-02-04T10:59:01+00:00\n",
      "Greta Thunberg\n",
      "I still #StandWithFarmers and support their peaceful protest.\n",
      "No amount of hate, threats or violations of human rights will ever change that. #FarmersProtest\n",
      "\n",
      "[4] miakhalifa                      2021-02-03T06:14:01+00:00\n",
      "Mia K.\n",
      "“Paid actors,” huh? Quite the casting director, I hope they’re not overlooked during awards season. I stand with the farmers. #FarmersProtest https://t.co/moONj03tN0\n",
      "\n",
      "[5] miakhalifa                      2021-02-03T04:51:48+00:00\n",
      "Mia K.\n",
      "What in the human rights violations is going on?! They cut the internet around New Delhi?! #FarmersProtest https://t.co/a5ml1P2ikU\n",
      "\n",
      "[6] TeamJuJu                      2021-02-03T19:27:19+00:00\n",
      "JuJu Smith-Schuster\n",
      "Happy to share that I’ve donated $10,000 to provide medical assistance to the farmers in need in India to help save lives during these times. I hope we can prevent any additional life from being lost. 🙏🏾 #FarmersProtest https://t.co/0WoEw0l3ij\n",
      "\n",
      "[7] BobBlackman                      2021-02-05T18:19:19+00:00\n",
      "Bob Blackman\n",
      "There has been much social media coverage around the #FarmersProtest in #India. Very useful guide to the legislation and the impact on farmers. 1/2 https://t.co/3CsdgBebdZ\n",
      "\n",
      "[8] vanessa_vash                      2021-02-02T19:09:23+00:00\n",
      "Vanessa Nakate\n",
      "Farmers feed the world. Fight for them. Protect them #FarmersProtest\n",
      "\n",
      "[9] kylekuzma                      2021-02-03T16:55:04+00:00\n",
      "kuz\n",
      "Should be talking about this! #FarmersProtest\n",
      "\n",
      "https://t.co/Xh09iTvVoF\n",
      "\n",
      "[10] AmandaCerny                      2021-02-09T05:36:49+00:00\n",
      "Amanda Cerny\n",
      "To all of my influencer/celeb friends- read up on this   #FarmersProtest 👀\n",
      "\n"
     ]
    }
   ],
   "source": [
    "def top10tweets(tweets):\n",
    "    tweets.sort(reverse=True, key = lambda lista: lista[\"retweetCount\"])\n",
    "\n",
    "    for i in range(10):\n",
    "        print(f\"[{i+1}] {tweets[i]['user']['username']}                      {tweets[i]['date']}\\n\"+\n",
    "        f\"{tweets[i]['user']['displayname']}\\n\"+\n",
    "        f\"{tweets[i]['content']}\\n\")\n",
    "top10tweets(lista)"
   ]
  },
  {
   "cell_type": "code",
   "execution_count": 17,
   "metadata": {},
   "outputs": [
    {
     "name": "stdout",
     "output_type": "stream",
     "text": [
      "[1] threadreaderapp\n",
      "[2] GeorgekurianINC\n",
      "[3] CyberAnonymous\n",
      "[4] unbiased100\n",
      "[5] pavan_sethi\n",
      "[6] animesh1977\n",
      "[7] CNBCTV18Live\n",
      "[8] htTweets\n",
      "[9] CNNnews18\n",
      "[10] IndiaToday\n"
     ]
    }
   ],
   "source": [
    "def top10usertweets(tweets):\n",
    "    tweets.sort(reverse=True, key = lambda lista: lista[\"user\"][\"statusesCount\"])\n",
    "    i = 0\n",
    "    a = 0\n",
    "    users = []\n",
    "    while i < 10:\n",
    "        if (tweets[a]['user']['username'] not in users):\n",
    "            print(f\"[{i+1}] {tweets[a]['user']['username']}\")\n",
    "            users.append(tweets[a]['user']['username'])\n",
    "            i += 1\n",
    "        a += 1\n",
    "top10usertweets(lista)"
   ]
  },
  {
   "cell_type": "code",
   "execution_count": 13,
   "metadata": {},
   "outputs": [
    {
     "name": "stdout",
     "output_type": "stream",
     "text": [
      "[1] 2021-02-01T22:48:17+00:00\n",
      "[2] 2021-02-03T18:42:09+00:00\n",
      "[3] 2021-02-03T20:12:09+00:00\n",
      "[4] 2021-02-03T07:49:13+00:00\n",
      "[5] 2021-02-03T09:23:14+00:00\n",
      "[6] 2021-02-03T09:55:29+00:00\n",
      "[7] 2021-02-03T05:52:37+00:00\n",
      "[8] 2021-02-03T10:07:16+00:00\n",
      "[9] 2021-02-03T12:30:04+00:00\n",
      "[10] 2021-02-03T07:44:53+00:00\n"
     ]
    }
   ],
   "source": [
    "def top10daytweets(tweets):\n",
    "    tweet_day = dict()\n",
    "    lista_fechas = []\n",
    "    for tweet in tweets:\n",
    "        if tweet[\"date\"] not in tweet_day.keys():\n",
    "            tweet_day[tweet[\"date\"]] = 0\n",
    "        tweet_day[tweet[\"date\"]] += 1\n",
    "    for key, value in tweet_day.items():\n",
    "        lista_fechas.append([key,value])\n",
    "    \n",
    "    lista_fechas.sort(reverse=True, key = lambda lista: lista[1])\n",
    "    for i in range(10):\n",
    "        print(f\"[{i+1}] {lista_fechas[i][0]}\")\n",
    "top10daytweets(lista)"
   ]
  },
  {
   "cell_type": "code",
   "execution_count": 12,
   "metadata": {},
   "outputs": [
    {
     "name": "stdout",
     "output_type": "stream",
     "text": [
      "[1] FarmersProtest\n",
      "[2] IStandWithFarmers\n",
      "[3] farmersprotest\n",
      "[4] IndianFarmersHumanRights\n",
      "[5] FarmersAreIndia\n",
      "[6] StandWithFarmers\n",
      "[7] Rihanna\n",
      "[8] FarmersProtests\n",
      "[9] Farmers\n",
      "[10] shameonbollywood\n"
     ]
    }
   ],
   "source": [
    "def top10hashtags(tweets):\n",
    "    hashtags = dict()\n",
    "    lista_hashtags = []\n",
    "    for tweet in tweets:\n",
    "        hashtagsRaw = tweet[\"content\"].split('#')\n",
    "        if tweet[\"content\"][0] == \"#\":\n",
    "            hashtag = hashtagsRaw[1].split(' ')[0].split('\\n')[0].split('.')[0]\n",
    "            if (hashtag not in hashtags.keys()):\n",
    "                hashtags[hashtag] = 0\n",
    "            hashtags[hashtag] += 1\n",
    "\n",
    "        for hashtagRaw in hashtagsRaw:\n",
    "            if (hashtagRaw == hashtagsRaw[0]):\n",
    "                continue\n",
    "            hashtag = hashtagRaw.split(' ')[0].split('\\n')[0].split('.')[0]\n",
    "            if (hashtag not in hashtags.keys()):\n",
    "                hashtags[hashtag] = 0\n",
    "            hashtags[hashtag] += 1\n",
    "\n",
    "    for key, value in hashtags.items():\n",
    "        lista_hashtags.append([key,value])\n",
    "    \n",
    "    lista_hashtags.sort(reverse=True, key = lambda lista: lista[1])\n",
    "    for i in range(10):\n",
    "        print(f\"[{i+1}] {lista_hashtags[i][0]}\")\n",
    "top10hashtags(lista)"
   ]
  },
  {
   "cell_type": "code",
   "execution_count": null,
   "metadata": {},
   "outputs": [],
   "source": [
    "def main():\n",
    "    top10tweets(lista)\n",
    "    top10usertweets(lista)\n",
    "    top10daytweets(lista)\n",
    "    top10hashtags(lista)\n",
    "\n",
    "if __name__ == \"__main__\":\n",
    "    main()"
   ]
  }
 ],
 "metadata": {
  "kernelspec": {
   "display_name": "Python 3",
   "language": "python",
   "name": "python3"
  },
  "language_info": {
   "codemirror_mode": {
    "name": "ipython",
    "version": 3
   },
   "file_extension": ".py",
   "mimetype": "text/x-python",
   "name": "python",
   "nbconvert_exporter": "python",
   "pygments_lexer": "ipython3",
   "version": "3.7.0"
  }
 },
 "nbformat": 4,
 "nbformat_minor": 2
}
